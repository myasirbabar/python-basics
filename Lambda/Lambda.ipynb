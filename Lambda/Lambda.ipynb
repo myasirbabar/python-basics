{
 "cells": [
  {
   "cell_type": "markdown",
   "id": "bbbbfa64",
   "metadata": {},
   "source": [
    "### Lamda is a small anonumus function "
   ]
  },
  {
   "cell_type": "markdown",
   "id": "a086c39f",
   "metadata": {},
   "source": [
    "Syntax: \n",
    "\n",
    "lambda args : expression"
   ]
  },
  {
   "cell_type": "code",
   "execution_count": 2,
   "id": "f56e39db",
   "metadata": {},
   "outputs": [
    {
     "name": "stdout",
     "output_type": "stream",
     "text": [
      "11\n"
     ]
    }
   ],
   "source": [
    "sum = lambda a,b:a+b # takes 2 args a, b perform a+b and return \n",
    "\n",
    "print(sum(5,6))"
   ]
  },
  {
   "cell_type": "markdown",
   "id": "4ef9ad60",
   "metadata": {},
   "source": [
    "### A function returning a lambda function"
   ]
  },
  {
   "cell_type": "code",
   "execution_count": 3,
   "id": "a7540824",
   "metadata": {},
   "outputs": [
    {
     "name": "stdout",
     "output_type": "stream",
     "text": [
      "50\n"
     ]
    }
   ],
   "source": [
    "def unknown(a):\n",
    "    return lambda b:b*a\n",
    "\n",
    "mylambda = unknown(5) # Now in mylambda Lambda function will be saved i.e lambda b:b*5\n",
    "\n",
    "print(mylambda(10)) # now this is calling lambda function i.e args = b = 10 and will return b*5 = 10 *5 = 50"
   ]
  }
 ],
 "metadata": {
  "kernelspec": {
   "display_name": "Python 3",
   "language": "python",
   "name": "python3"
  },
  "language_info": {
   "codemirror_mode": {
    "name": "ipython",
    "version": 3
   },
   "file_extension": ".py",
   "mimetype": "text/x-python",
   "name": "python",
   "nbconvert_exporter": "python",
   "pygments_lexer": "ipython3",
   "version": "3.8.8"
  }
 },
 "nbformat": 4,
 "nbformat_minor": 5
}
