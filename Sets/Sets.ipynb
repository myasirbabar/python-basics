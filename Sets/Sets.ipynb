{
 "cells": [
  {
   "cell_type": "markdown",
   "id": "d2625131",
   "metadata": {},
   "source": [
    "Sets are like strings but they do not hold Same items"
   ]
  },
  {
   "cell_type": "markdown",
   "id": "9bbcfbb7",
   "metadata": {},
   "source": [
    "### Create a Set "
   ]
  },
  {
   "cell_type": "code",
   "execution_count": 7,
   "id": "c8467b17",
   "metadata": {},
   "outputs": [
    {
     "name": "stdout",
     "output_type": "stream",
     "text": [
      "set()\n",
      "{'myb', 'IT', 4, 526}\n",
      "Repeated Values discarded :  {1, 3, 5, 7, 9}\n"
     ]
    }
   ],
   "source": [
    "s = set()\n",
    "print(s)\n",
    "\n",
    "s2 = {526, \"myb\", 4, \"IT\"}\n",
    "print(s2)\n",
    "\n",
    "#s2 = {} this is not same as set, because its a dictionary\n",
    "\n",
    "#Sets automatically discard repeated values\n",
    "s3 = {1,3,5,7,9,5}\n",
    "print(\"Repeated Values discarded : \", s3)"
   ]
  },
  {
   "cell_type": "markdown",
   "id": "1021bd04",
   "metadata": {},
   "source": [
    "### Set and List"
   ]
  },
  {
   "cell_type": "code",
   "execution_count": 9,
   "id": "9a455fcd",
   "metadata": {},
   "outputs": [
    {
     "name": "stdout",
     "output_type": "stream",
     "text": [
      "[1, 2, 3, 1, 4, 5, 2]\n",
      "{1, 2, 3, 4, 5}\n"
     ]
    }
   ],
   "source": [
    "#If we want to Eliminate repeated values from list we can convert it to a set\n",
    "l = [1,2,3,1,4,5,2]\n",
    "s = set(l)\n",
    "\n",
    "print(l)\n",
    "print(s)"
   ]
  },
  {
   "cell_type": "markdown",
   "id": "4e1992a7",
   "metadata": {},
   "source": [
    "##                                                      SET OPERATIONS"
   ]
  },
  {
   "cell_type": "markdown",
   "id": "71dac75a",
   "metadata": {},
   "source": [
    "### Union"
   ]
  },
  {
   "cell_type": "code",
   "execution_count": 10,
   "id": "79ea6d5c",
   "metadata": {},
   "outputs": [
    {
     "name": "stdout",
     "output_type": "stream",
     "text": [
      "{0, 1, 2, 3, 4, 5, 6, 7, 8}\n",
      "{0, 1, 2, 3, 4, 5, 6, 7, 8}\n"
     ]
    }
   ],
   "source": [
    "s1 = {1,2,3,5}\n",
    "s2 = {0,4,6,7,8}\n",
    "\n",
    "#either \n",
    "s3 = s1.union(s2)\n",
    "print(s3)\n",
    "\n",
    "#OR\n",
    "s3  = s1 | s2\n",
    "print(s3)"
   ]
  },
  {
   "cell_type": "markdown",
   "id": "143cbb13",
   "metadata": {},
   "source": [
    "### Intersections"
   ]
  },
  {
   "cell_type": "code",
   "execution_count": 11,
   "id": "da29b5d2",
   "metadata": {},
   "outputs": [
    {
     "name": "stdout",
     "output_type": "stream",
     "text": [
      "{1, 3}\n",
      "{1, 3}\n"
     ]
    }
   ],
   "source": [
    "s1 = {1,2,3,5}\n",
    "s2 = {1,4,3,7,8}\n",
    "\n",
    "#either \n",
    "s3 = s1.intersection(s2)\n",
    "print(s3)\n",
    "\n",
    "#OR\n",
    "s3  = s1 & s2\n",
    "print(s3)"
   ]
  },
  {
   "cell_type": "markdown",
   "id": "e0717a68",
   "metadata": {},
   "source": [
    "### Difference"
   ]
  },
  {
   "cell_type": "code",
   "execution_count": 13,
   "id": "5f4cb1d6",
   "metadata": {},
   "outputs": [
    {
     "name": "stdout",
     "output_type": "stream",
     "text": [
      "{2, 5}\n",
      "{2, 5}\n"
     ]
    }
   ],
   "source": [
    "s1 = {1,2,3,5}\n",
    "s2 = {1,4,3,7,8}\n",
    "\n",
    "#either \n",
    "s3 = s1.difference(s2)\n",
    "print(s3)\n",
    "\n",
    "#OR\n",
    "s3  = s1 - s2\n",
    "print(s3)"
   ]
  },
  {
   "cell_type": "markdown",
   "id": "2c6af824",
   "metadata": {},
   "source": [
    "### Symteric Difference \n",
    "#### (That are in s1 or in s2 but not in both)"
   ]
  },
  {
   "cell_type": "code",
   "execution_count": 14,
   "id": "9a00694b",
   "metadata": {},
   "outputs": [
    {
     "name": "stdout",
     "output_type": "stream",
     "text": [
      "{2, 4, 5, 7, 8}\n",
      "{2, 4, 5, 7, 8}\n"
     ]
    }
   ],
   "source": [
    "s1 = {1,2,3,5}\n",
    "s2 = {1,4,3,7,8}\n",
    "\n",
    "#either \n",
    "s3 = s1.symmetric_difference(s2)\n",
    "print(s3)\n",
    "\n",
    "#OR\n",
    "s3  = s1 ^ s2\n",
    "print(s3)"
   ]
  },
  {
   "cell_type": "markdown",
   "id": "85d735db",
   "metadata": {},
   "source": [
    "### Subset"
   ]
  },
  {
   "cell_type": "code",
   "execution_count": 17,
   "id": "9b9f0aac",
   "metadata": {},
   "outputs": [
    {
     "name": "stdout",
     "output_type": "stream",
     "text": [
      "False\n",
      "False\n"
     ]
    }
   ],
   "source": [
    "s1 = {1,2,3,5}\n",
    "s2 = {1,4,3,7,8}\n",
    "\n",
    "#either \n",
    "print(s2.issubset(s1))\n",
    "\n",
    "#OR\n",
    "print(s2 <= s1)"
   ]
  },
  {
   "cell_type": "markdown",
   "id": "0887cb86",
   "metadata": {},
   "source": [
    "### Super set"
   ]
  },
  {
   "cell_type": "code",
   "execution_count": 18,
   "id": "91f048c8",
   "metadata": {},
   "outputs": [
    {
     "name": "stdout",
     "output_type": "stream",
     "text": [
      "False\n"
     ]
    }
   ],
   "source": [
    "s1 = {1,2,3,5}\n",
    "s2 = {1,4,3,7,8}\n",
    "\n",
    "print(s2.issuperset(s1))"
   ]
  },
  {
   "cell_type": "markdown",
   "id": "c9bac10d",
   "metadata": {},
   "source": [
    "### Disjoint"
   ]
  },
  {
   "cell_type": "code",
   "execution_count": 20,
   "id": "99641184",
   "metadata": {},
   "outputs": [
    {
     "name": "stdout",
     "output_type": "stream",
     "text": [
      "True\n"
     ]
    }
   ],
   "source": [
    "s1 = {1,2,3,5}\n",
    "s2 = {4,7,8}\n",
    "\n",
    "print(s1.isdisjoint(s2))"
   ]
  },
  {
   "cell_type": "markdown",
   "id": "5e591ae2",
   "metadata": {},
   "source": [
    "### Create a set and add a single and multiple elements in it"
   ]
  },
  {
   "cell_type": "code",
   "execution_count": 22,
   "id": "c9e23103",
   "metadata": {},
   "outputs": [
    {
     "name": "stdout",
     "output_type": "stream",
     "text": [
      "{1, 2, 3, 4}\n",
      "{1, 2, 3, 4, 5, 6, 7}\n",
      "{0, 1, 2, 3, 4, 5, 6, 7, 10, 11}\n"
     ]
    }
   ],
   "source": [
    "s = {1,2,3}\n",
    "\n",
    "#ADD SINGLE ELEMENT\n",
    "s.add(4)\n",
    "print(s)\n",
    "\n",
    "#ADD MULTIPLE \n",
    "s.update({5,6,7})\n",
    "print(s)\n",
    "\n",
    "s2 = {10,11,0}\n",
    "s.update(s2)\n",
    "print(s)"
   ]
  },
  {
   "cell_type": "markdown",
   "id": "aff34d63",
   "metadata": {},
   "source": [
    "### Removing an Element from set "
   ]
  },
  {
   "cell_type": "code",
   "execution_count": 31,
   "id": "738bbeb2",
   "metadata": {},
   "outputs": [
    {
     "name": "stdout",
     "output_type": "stream",
     "text": [
      "Orignal Set :  {1, 2, 3, 5, 63}\n",
      "\n",
      "Removed 1 :  {2, 3, 5, 63}\n",
      "\n",
      "Discarded 15 :  {2, 3, 5, 63}\n",
      "\n",
      "pop Element :  2\n",
      "\n",
      "After Pop :  {3, 5, 63}\n"
     ]
    }
   ],
   "source": [
    "s = {1,2,3,5,63}\n",
    "print(\"Orignal Set : \",s)\n",
    "\n",
    "s.remove(1)\n",
    "print(\"\\nRemoved 1 : \",s)\n",
    "\n",
    "# IF AN ELEMENT IS NOT IN LIST AND WE CALL REMOVE FOR THAT IT WILL GIVE ERROR \n",
    "# TO AVOID THIS WE CAN USE DISCARD INSTEAD\n",
    "s.discard(15)\n",
    "print(\"\\nDiscarded 15 : \",s)\n",
    "\n",
    "# POP FUNCTION Removes and returns Fisrt ELEMENT IN SET\n",
    "print(\"\\npop Element : \",s.pop())\n",
    "print(\"\\nAfter Pop : \",s)"
   ]
  }
 ],
 "metadata": {
  "kernelspec": {
   "display_name": "Python 3",
   "language": "python",
   "name": "python3"
  },
  "language_info": {
   "codemirror_mode": {
    "name": "ipython",
    "version": 3
   },
   "file_extension": ".py",
   "mimetype": "text/x-python",
   "name": "python",
   "nbconvert_exporter": "python",
   "pygments_lexer": "ipython3",
   "version": "3.8.8"
  }
 },
 "nbformat": 4,
 "nbformat_minor": 5
}
