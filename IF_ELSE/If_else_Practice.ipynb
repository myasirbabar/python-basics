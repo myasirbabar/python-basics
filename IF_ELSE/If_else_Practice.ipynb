{
 "cells": [
  {
   "cell_type": "markdown",
   "id": "50a76288",
   "metadata": {},
   "source": [
    "#### Write an if-else statement that outputs the word “High” if the value of the variable score is greater than 100, and “Low” if the value of score is at most 100. "
   ]
  },
  {
   "cell_type": "code",
   "execution_count": 8,
   "id": "c3870699",
   "metadata": {},
   "outputs": [
    {
     "name": "stdout",
     "output_type": "stream",
     "text": [
      "Enter A Value : 101\n",
      "High\n"
     ]
    }
   ],
   "source": [
    "value = int(input(\"Enter A Value : \"))\n",
    "if value > 100 :\n",
    "    print(\"High\")\n",
    "else :\n",
    "    print(\"Low\")"
   ]
  },
  {
   "cell_type": "markdown",
   "id": "d83c74bf",
   "metadata": {},
   "source": [
    "#### Write a program that gets a number from user, if it is negative then display “The number is negative” otherwise,  display “The number is non-negative”. "
   ]
  },
  {
   "cell_type": "code",
   "execution_count": null,
   "id": "9b45b119",
   "metadata": {},
   "outputs": [],
   "source": [
    "value = input(\"Enter a Number : \")\n",
    "if int(value) < 0 :\n",
    "    print(\"The Number is negative\")\n",
    "else :\n",
    "    print(\"The Number is positive\")"
   ]
  },
  {
   "cell_type": "markdown",
   "id": "22b3febd",
   "metadata": {},
   "source": [
    "#### Prompt the user for two numbers A & B, computes and displays C=A/B. If the number B is zero, displays a “division by Zero” message. "
   ]
  },
  {
   "cell_type": "code",
   "execution_count": 11,
   "id": "0719d6ed",
   "metadata": {},
   "outputs": [
    {
     "name": "stdout",
     "output_type": "stream",
     "text": [
      "Enter Number A : 10\n",
      "Enter Number B : 10\n",
      "1\n"
     ]
    }
   ],
   "source": [
    "A = input(\"Enter Number A : \")\n",
    "B = input(\"Enter Number B : \")\n",
    "\n",
    "if int(B) == 0 :\n",
    "    print(\"Division By zero Error !\")\n",
    "else :\n",
    "    C = int(A) / int(B)\n",
    "    print(int(C))"
   ]
  },
  {
   "cell_type": "markdown",
   "id": "a5a9e173",
   "metadata": {},
   "source": [
    "#### Input two positive numbers from user and display the maximum out of them.  "
   ]
  },
  {
   "cell_type": "code",
   "execution_count": null,
   "id": "86519e00",
   "metadata": {},
   "outputs": [],
   "source": [
    "A = input(\"Enter Number A : \")\n",
    "B = input(\"Enter Number B : \")\n",
    "\n",
    "if int(A) < 0 or int(B) < 0 :\n",
    "    print(\"Both Numbers Should Be Positive\")\n",
    "else :\n",
    "    if(A >= B) :\n",
    "        print(A)\n",
    "    else :\n",
    "        print(B)\n",
    "    #print(max(A,B))"
   ]
  },
  {
   "cell_type": "markdown",
   "id": "9a8f2f4a",
   "metadata": {},
   "source": [
    "#### Three numbers denoted by the variables A, B and C are supplied as input data. Identify and print the largest one of these numbers. "
   ]
  },
  {
   "cell_type": "code",
   "execution_count": null,
   "id": "488704ba",
   "metadata": {},
   "outputs": [],
   "source": [
    "A = input(\"Enter Number A : \")\n",
    "B = input(\"Enter Number B : \")\n",
    "C = input(\"Enter Number C : \")\n",
    "\n",
    "if A > B and A > C :\n",
    "    print(A)\n",
    "elif B > A and B > C :\n",
    "    print(B)\n",
    "else :\n",
    "    print(C)\n",
    "#print(max(A,B,C))"
   ]
  },
  {
   "cell_type": "markdown",
   "id": "8fa04b3b",
   "metadata": {},
   "source": [
    "#### Write a program that reads an integer and determines and prints whether it is odd or even. (Hint: First use the simple division, then introduce modulus operator)"
   ]
  },
  {
   "cell_type": "code",
   "execution_count": null,
   "id": "856bb44e",
   "metadata": {},
   "outputs": [],
   "source": [
    "value = int(input(\"Enter an integer : \"))\n",
    "if value % 2 == 0 :\n",
    "    print(\"Even\")\n",
    "else :\n",
    "    print(\"Odd\")"
   ]
  },
  {
   "cell_type": "markdown",
   "id": "fe636e17",
   "metadata": {},
   "source": [
    "#### Write a program that reads two integers (in any order) and then print either “multiple” or “not” according to weather 2nd number is multiple of the 1st one or not. "
   ]
  },
  {
   "cell_type": "code",
   "execution_count": null,
   "id": "8569ae37",
   "metadata": {},
   "outputs": [],
   "source": [
    "A = int(input(\"Enter A integer : \"))\n",
    "B = int(input(\"Enter B integer : \"))\n",
    "\n",
    "if B % A == 0 :\n",
    "    print(\"Multiple\")\n",
    "else :\n",
    "    print(\"Not Multiple\")"
   ]
  },
  {
   "cell_type": "markdown",
   "id": "2eaff09e",
   "metadata": {},
   "source": [
    "#### Write a program that gives absolute of a number input by user"
   ]
  },
  {
   "cell_type": "code",
   "execution_count": null,
   "id": "495a1ad9",
   "metadata": {},
   "outputs": [],
   "source": [
    "val = int(input(\"Enter a number : \"))\n",
    "if val < 0:\n",
    "    val *= -1\n",
    "\n",
    "print(val)"
   ]
  },
  {
   "cell_type": "markdown",
   "id": "3dd2522c",
   "metadata": {},
   "source": [
    "#### Write a program that requests an integer value representing the month of the year and gives the number of days in that month.  "
   ]
  },
  {
   "cell_type": "code",
   "execution_count": null,
   "id": "b1d16f66",
   "metadata": {},
   "outputs": [],
   "source": [
    "val = int(input(\"Enter Month : \"))\n",
    "if val == 2:\n",
    "    print(\"28\")\n",
    "else :\n",
    "    if val < 8 :\n",
    "        if val % 2 == 0:\n",
    "            print(\"30\")\n",
    "        else :\n",
    "            print(\"31\")\n",
    "    else :\n",
    "        if val % 2 != 0:\n",
    "            print(\"30\")\n",
    "        else :\n",
    "            print(\"31\")"
   ]
  },
  {
   "cell_type": "markdown",
   "id": "cf8f187d",
   "metadata": {},
   "source": [
    "#### Write a program that reads a single digit value (0-9) and then prints the number as a literal string. For example, if input is 7, then the output should be word “seven”."
   ]
  },
  {
   "cell_type": "code",
   "execution_count": null,
   "id": "d03f9c78",
   "metadata": {},
   "outputs": [],
   "source": [
    "val = int(input(\"Enter Digit : \"))\n",
    "if val > 9 :\n",
    "    print(\"Enter Value in between 0 -- 9 \")\n",
    "else :\n",
    "    array = [\"Zero\",\"One\", \"Two\", \"Three\", \"Four\", \"Five\", \"Six\", \"Seven\", \"Eight\", \"Nine\"]\n",
    "    index = 0\n",
    "    for st in array:\n",
    "        if val == index:\n",
    "            print(st)\n",
    "        index += 1"
   ]
  },
  {
   "cell_type": "markdown",
   "id": "74083a68",
   "metadata": {},
   "source": [
    "#### Write a program that inputs a number and displays its number of digits. Assume that user will enter a positive number less than 1000."
   ]
  },
  {
   "cell_type": "code",
   "execution_count": null,
   "id": "809a2fff",
   "metadata": {},
   "outputs": [],
   "source": [
    "val = int(input(\"Enter An Integer : \"))\n",
    "\n",
    "if val >= 1000 or val < 0:\n",
    "    print(\"Data Not Valid\")\n",
    "\n",
    "else :\n",
    "    if val >= 0 and val < 10 :\n",
    "        print(\"1\")\n",
    "    if val >= 10 and val < 100 :\n",
    "        print(\"2\")\n",
    "    if val >= 100 and val < 999 :\n",
    "        print(\"3\")"
   ]
  }
 ],
 "metadata": {
  "kernelspec": {
   "display_name": "Python 3",
   "language": "python",
   "name": "python3"
  },
  "language_info": {
   "codemirror_mode": {
    "name": "ipython",
    "version": 3
   },
   "file_extension": ".py",
   "mimetype": "text/x-python",
   "name": "python",
   "nbconvert_exporter": "python",
   "pygments_lexer": "ipython3",
   "version": "3.8.8"
  }
 },
 "nbformat": 4,
 "nbformat_minor": 5
}
