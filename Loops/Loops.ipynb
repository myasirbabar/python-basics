{
 "cells": [
  {
   "cell_type": "markdown",
   "id": "6939a18c",
   "metadata": {},
   "source": [
    "#### Finding the sum of 10 numbers taken from the user"
   ]
  },
  {
   "cell_type": "code",
   "execution_count": 1,
   "id": "b52fef7e",
   "metadata": {},
   "outputs": [
    {
     "name": "stdout",
     "output_type": "stream",
     "text": [
      "Enter Value 1\n",
      "Enter Value 2\n",
      "Enter Value 3\n",
      "Enter Value 4\n",
      "Enter Value 5\n",
      "Enter Value 6\n",
      "Enter Value 7\n",
      "Enter Value 8\n",
      "Enter Value 9\n",
      "Enter Value 10\n",
      "Sum of Numbers =  55\n"
     ]
    }
   ],
   "source": [
    "sum = 0\n",
    "for x in range(0,10):\n",
    "    val = int(input(\"Enter Value \"))\n",
    "    sum += val\n",
    "    \n",
    "print(\"Sum of Numbers = \", sum)"
   ]
  },
  {
   "cell_type": "markdown",
   "id": "05aa39d8",
   "metadata": {},
   "source": [
    "####  Finding the sum of n numbers taken from the user, where n is taken from the user as well. "
   ]
  },
  {
   "cell_type": "code",
   "execution_count": 2,
   "id": "39850b08",
   "metadata": {},
   "outputs": [
    {
     "name": "stdout",
     "output_type": "stream",
     "text": [
      "Enter n 1\n",
      "Enter Value 1\n",
      "Sum of  1  numbers =  1\n"
     ]
    }
   ],
   "source": [
    "n = int(input(\"Enter n \"))\n",
    "sum = 0\n",
    "for x in range(n):\n",
    "    val = int(input(\"Enter Value \")) \n",
    "    sum += val\n",
    "    \n",
    "print(\"Sum of \", n , \" numbers = \", sum)"
   ]
  },
  {
   "cell_type": "markdown",
   "id": "156125c6",
   "metadata": {},
   "source": [
    "#### Calculate the factorial of a positive integer entered by the user. "
   ]
  },
  {
   "cell_type": "code",
   "execution_count": 3,
   "id": "c475fe2c",
   "metadata": {},
   "outputs": [
    {
     "name": "stdout",
     "output_type": "stream",
     "text": [
      "Enter n 5\n",
      "5 !  =  120\n"
     ]
    }
   ],
   "source": [
    "n = int(input(\"Enter n \"))\n",
    "fact = 1 #5! = 1.2.3.4.5\n",
    "for x in range(1,n+1):\n",
    "    fact *= x\n",
    "    \n",
    "print(n , \"!  = \", fact)"
   ]
  },
  {
   "cell_type": "markdown",
   "id": "3b715569",
   "metadata": {},
   "source": [
    "#### Take two positive integers a and n from the user. Calculate and display a n Assume that the power operator is not available.  "
   ]
  },
  {
   "cell_type": "code",
   "execution_count": null,
   "id": "857e689e",
   "metadata": {},
   "outputs": [],
   "source": [
    "a = int(input(\"Input the value of a \"))\n",
    "n = int(input(\"Input the value of n \"))\n",
    "x = 1\n",
    "\n",
    "for i in range(n):\n",
    "    x *= a\n",
    "    \n",
    "print(a, \"^\", n, \" = \", x)"
   ]
  },
  {
   "cell_type": "markdown",
   "id": "74544430",
   "metadata": {},
   "source": [
    "#### Take three numbers from the user and determine the largest number. Do it using a loop. "
   ]
  },
  {
   "cell_type": "code",
   "execution_count": null,
   "id": "392afaa5",
   "metadata": {},
   "outputs": [],
   "source": [
    "a = int(input(\"Input the value of a \"))\n",
    "b = int(input(\"Input the value of b \"))\n",
    "c = int(input(\"Input the value of c \"))\n",
    "\n",
    "arr = [a,b,c]\n",
    "lar = arr[0]\n",
    "for i in range(1,3):\n",
    "    if lar < arr[i]:\n",
    "        lar = int(a[i])\n",
    "        \n",
    "print(\"Largest Number = \", lar)"
   ]
  },
  {
   "cell_type": "markdown",
   "id": "d9643a36",
   "metadata": {},
   "source": [
    "#### Take a positive integer from the user. Keep displaying an error message and prompting for input again and again if the user enters invalid input (negative or zero). "
   ]
  },
  {
   "cell_type": "code",
   "execution_count": null,
   "id": "7c38442b",
   "metadata": {},
   "outputs": [],
   "source": [
    "while True :\n",
    "    n = int(input(\"Input the number : \"))\n",
    "    if n > 0:\n",
    "        break\n",
    "    else:\n",
    "        print(\"Incorrect Number. Enter Again\")\n",
    "\n",
    "print(n)"
   ]
  },
  {
   "cell_type": "markdown",
   "id": "080d145d",
   "metadata": {},
   "source": [
    "#### Write an algorithm to determine the sum of a variable number of positive integers taken from the user. The algorithm should keep prompting the user for more input till the user enters the sentinel value -999. "
   ]
  },
  {
   "cell_type": "code",
   "execution_count": null,
   "id": "302009bb",
   "metadata": {},
   "outputs": [],
   "source": [
    "sum = 0\n",
    "while True:\n",
    "    val = int(input(\"Enter number : \"))\n",
    "    if val == -999:\n",
    "        break\n",
    "    sum += val\n",
    "    \n",
    "print(\"Sum = \", sum)"
   ]
  },
  {
   "cell_type": "markdown",
   "id": "04705fb1",
   "metadata": {},
   "source": [
    "#### Input a 2-digit number and find absolute difference between its digits. "
   ]
  },
  {
   "cell_type": "code",
   "execution_count": null,
   "id": "f9d86d45",
   "metadata": {},
   "outputs": [],
   "source": [
    "val = int(input(\"Enter a two - digit number \"))\n",
    "\n",
    "a = int(val / 10)\n",
    "b = val - (a*10)\n",
    "\n",
    "c = a - b\n",
    "\n",
    "if c < 0 : \n",
    "    c *= -1\n",
    "print(\"Difference is : \", c)"
   ]
  },
  {
   "cell_type": "markdown",
   "id": "82759771",
   "metadata": {},
   "source": [
    "#### Input SLimit and ELimit from user, and display Even numbers between range, with both limits included "
   ]
  },
  {
   "cell_type": "code",
   "execution_count": null,
   "id": "9bf35a69",
   "metadata": {},
   "outputs": [],
   "source": [
    "slimit = int(input(\"Enter Lower Limit \"))\n",
    "elimit = int(input(\"Enter upper Limit \"))\n",
    "\n",
    "for i in range(slimit, elimit+1):\n",
    "    if i % 2 == 0:\n",
    "        print (i)"
   ]
  }
 ],
 "metadata": {
  "kernelspec": {
   "display_name": "Python 3",
   "language": "python",
   "name": "python3"
  },
  "language_info": {
   "codemirror_mode": {
    "name": "ipython",
    "version": 3
   },
   "file_extension": ".py",
   "mimetype": "text/x-python",
   "name": "python",
   "nbconvert_exporter": "python",
   "pygments_lexer": "ipython3",
   "version": "3.8.8"
  }
 },
 "nbformat": 4,
 "nbformat_minor": 5
}
