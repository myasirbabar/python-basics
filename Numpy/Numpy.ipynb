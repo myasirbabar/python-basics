{
 "cells": [
  {
   "cell_type": "markdown",
   "id": "a221d15f",
   "metadata": {},
   "source": [
    "### 1D Numpy array"
   ]
  },
  {
   "cell_type": "code",
   "execution_count": 5,
   "id": "1283055d",
   "metadata": {},
   "outputs": [
    {
     "name": "stdout",
     "output_type": "stream",
     "text": [
      "[1 2 3]\n",
      "(3,)\n",
      "\t\t Printing using Loop\n",
      "\n",
      "\t 1\t\t 2\t\t 3\t"
     ]
    }
   ],
   "source": [
    "import numpy as np\n",
    "def numpy_1D():\n",
    "    #1D array ==> Rank 1 array \n",
    "    array = np.array([1,2,3])\n",
    "    print(array)\n",
    "    print(array.shape)\n",
    "    \n",
    "    return array\n",
    "\n",
    "def print_array(array):\n",
    "    print(\"\\t\\t Printing using Loop\\n\")\n",
    "    \n",
    "    for i in range(0,len(array)):\n",
    "        print(\"\\t\", array[i], end = \"\\t\")\n",
    "                        \n",
    "array = numpy_1D()\n",
    "print_array(array)"
   ]
  },
  {
   "cell_type": "markdown",
   "id": "6e89543e",
   "metadata": {},
   "source": [
    "### 2D numpy Array"
   ]
  },
  {
   "cell_type": "code",
   "execution_count": 6,
   "id": "eeab9f8b",
   "metadata": {
    "scrolled": true
   },
   "outputs": [
    {
     "name": "stdout",
     "output_type": "stream",
     "text": [
      "[[1 2 3]\n",
      " [4 5 6]\n",
      " [7 8 9]] \n",
      "\n",
      "(3, 3)\n",
      "\t\t Printing using Loop\n",
      "\n",
      "\t 1\t\t 2\t\t 3\t\n",
      "\n",
      "\t 4\t\t 5\t\t 6\t\n",
      "\n",
      "\t 7\t\t 8\t\t 9\t\n",
      "\n"
     ]
    }
   ],
   "source": [
    "def numpy_2D():\n",
    "    #2D array ==> Rank2 array\n",
    "    array = np.array([[1,2,3],[4,5,6],[7,8,9]])\n",
    "    print(array, \"\\n\")\n",
    "    print(array.shape)\n",
    "    \n",
    "    return array\n",
    "\n",
    "def print_array(array):\n",
    "    print(\"\\t\\t Printing using Loop\\n\")\n",
    "    \n",
    "    for i in range(0,len(array)):\n",
    "        for j in range(0,len(array)):\n",
    "            print(\"\\t\", array[i][j], end = \"\\t\")\n",
    "            \n",
    "        print(\"\\n\")\n",
    "            \n",
    "array = numpy_2D()\n",
    "print_array(array)"
   ]
  },
  {
   "cell_type": "markdown",
   "id": "e5275f94",
   "metadata": {},
   "source": [
    "### Print selective by Slicing, Rank2 array"
   ]
  },
  {
   "cell_type": "code",
   "execution_count": 9,
   "id": "ebde59f6",
   "metadata": {},
   "outputs": [
    {
     "name": "stdout",
     "output_type": "stream",
     "text": [
      "==> All Elements of 1st Column Are\n",
      " [2 5 8] \n",
      "\n",
      "==> All Elements of 2nd row Are\n",
      " [7 8 9] \n",
      "\n",
      "==> All Elements of 0th and 1st row\n",
      " [[1 2 3]\n",
      " [4 5 6]] \n",
      "\n",
      "==> All Elements of 1st and 2nd col\n",
      " [[2 3]\n",
      " [5 6]\n",
      " [8 9]] \n",
      "\n",
      "==> Elements [0][1], [0][2], [1][1], [1][2]\n",
      " [[2 3]\n",
      " [5 6]] \n",
      "\n"
     ]
    }
   ],
   "source": [
    "def print_selective(array):\n",
    "    print(\"==> All Elements of 1st Column Are\\n\",array[:,1], \"\\n\") # 1st Column will print, This is a Rank 1 result\n",
    "    \n",
    "    print(\"==> All Elements of 2nd row Are\\n\",array[2,:], \"\\n\") # 2nd row will print, This is a Rank 1 result\n",
    "    \n",
    "    print(\"==> All Elements of 0th and 1st row\\n\",array[0:2,:], \"\\n\") # 0th and 1st row, This is a Rank 2 result\n",
    "    \n",
    "    print(\"==> All Elements of 1st and 2nd col\\n\",array[:,1:3], \"\\n\") # 1st and 2nd col, This is a Rank 2 result\n",
    "    \n",
    "    print(\"==> Elements [0][1], [0][2], [1][1], [1][2]\\n\", array[0:2,1:3], \"\\n\") #Selective Elemenst, This is a Rank 2 result\n",
    "\n",
    "print_selective(array)"
   ]
  },
  {
   "cell_type": "markdown",
   "id": "1ca48133",
   "metadata": {},
   "source": [
    "### Print all values of 1D array that are > 3 "
   ]
  },
  {
   "cell_type": "code",
   "execution_count": 100,
   "id": "fc270a09",
   "metadata": {},
   "outputs": [
    {
     "name": "stdout",
     "output_type": "stream",
     "text": [
      "Array Of Bool :  [False  True False  True False False  True]\n",
      "By Creating array of bool :  [5 4 9] \n",
      "\n",
      "Direct Approch :  [5 4 9]\n"
     ]
    }
   ],
   "source": [
    "def approch_1(a):\n",
    "    #By Creating a mask;\n",
    "    b = a > 3 #This will create an array of bool where each index of b represent\n",
    "                                                      #either condition is true / false for respective index\n",
    "    print(\"Array Of Bool : \",b)\n",
    "    \n",
    "    print(\"By Creating array of bool : \",a[b], \"\\n\") # All indexes that are true will be displayed\n",
    "    \n",
    "def approch_2(a):\n",
    "    #By Directly running  \n",
    "    print(\"Direct Approch : \",a[a > 3]) # All indexes that are are true on condition will be displayed \n",
    "    \n",
    "    \n",
    "a = np.array([1,5,3,4,0,2,9])\n",
    "approch_1(a)\n",
    "approch_2(a)"
   ]
  },
  {
   "cell_type": "markdown",
   "id": "b7640fd9",
   "metadata": {},
   "source": [
    "### Add Element by Element a Numpy Matrix"
   ]
  },
  {
   "cell_type": "code",
   "execution_count": 111,
   "id": "f0dbb077",
   "metadata": {},
   "outputs": [
    {
     "name": "stdout",
     "output_type": "stream",
     "text": [
      "Approch 1\n",
      " [[ 6  8]\n",
      " [10 12]]\n",
      "\n",
      "Approch 2\n",
      " [[ 6  8]\n",
      " [10 12]]\n"
     ]
    }
   ],
   "source": [
    "def add(a,b):\n",
    "    print(\"Approch 1\\n\",a + b)\n",
    "    print(\"\\nApproch 2\\n\",np.add(a,b))\n",
    "    \n",
    "a = np.array([[1,2],[3,4]]) \n",
    "b = np.array([[5,6],[7,8]])\n",
    "\n",
    "add(a,b) # -, *, / operations could be performed"
   ]
  },
  {
   "cell_type": "markdown",
   "id": "33969b94",
   "metadata": {},
   "source": [
    "### Compute sum of each row and col of Numpy Matrix"
   ]
  },
  {
   "cell_type": "code",
   "execution_count": 118,
   "id": "89ab3896",
   "metadata": {},
   "outputs": [
    {
     "name": "stdout",
     "output_type": "stream",
     "text": [
      "Sum of each row is    :  [ 6 13 24]\n",
      "Sum of each column is :  [11 14 18]\n"
     ]
    }
   ],
   "source": [
    "def sum_each_row(a):\n",
    "    print(\"Sum of each row is    : \",np.sum(a, axis = 1)) # axis = 1 represent row\n",
    "    \n",
    "def sum_each_col(a):\n",
    "    print(\"Sum of each column is : \",np.sum(a, axis = 0)) # axis = 0 represent col\n",
    "    \n",
    "a = np.array([[1,2,3],[3,4,6],[7,8,9]])\n",
    "\n",
    "sum_each_row(a)\n",
    "sum_each_col(a)"
   ]
  },
  {
   "cell_type": "markdown",
   "id": "7f74c39c",
   "metadata": {},
   "source": [
    "### Transpose of numpy matrxi"
   ]
  },
  {
   "cell_type": "code",
   "execution_count": 123,
   "id": "e3cb8a0a",
   "metadata": {},
   "outputs": [
    {
     "name": "stdout",
     "output_type": "stream",
     "text": [
      "[[1 2 3]\n",
      " [3 4 6]\n",
      " [7 8 9]] \n",
      "\n",
      "[[1 3 7]\n",
      " [2 4 8]\n",
      " [3 6 9]]\n"
     ]
    }
   ],
   "source": [
    "a = np.array([[1,2,3],[3,4,6],[7,8,9]])\n",
    "\n",
    "print(a, \"\\n\")\n",
    "print(a.T)\n",
    "\n",
    "#Transpose of rank1 matrix does nothing "
   ]
  },
  {
   "cell_type": "markdown",
   "id": "2c60f201",
   "metadata": {},
   "source": [
    "### BroadCasting"
   ]
  },
  {
   "cell_type": "code",
   "execution_count": 125,
   "id": "164ad45c",
   "metadata": {},
   "outputs": [
    {
     "name": "stdout",
     "output_type": "stream",
     "text": [
      "[[ 2  2  4]\n",
      " [ 4  4  7]\n",
      " [ 8  8 10]]\n"
     ]
    }
   ],
   "source": [
    "# we have to add [1,0,1] in each row of a 2D numpy array\n",
    "# Fisrt approch is to make a same dimension matrix of [1,0,1] as a and add both\n",
    "# Second approch is to use a loop\n",
    "# Then comes a better approch BROADCASTING\n",
    "\n",
    "a = np.array([[1,2,3],[3,4,6],[7,8,9]])\n",
    "v = np.array([1,0,1])\n",
    "\n",
    "print(a + v) #This will automatically map 1 0 1 as a 3D(since a is 3D) matrix and in each row of a"
   ]
  },
  {
   "cell_type": "markdown",
   "id": "5d149ed1",
   "metadata": {},
   "source": [
    "### Create Numpy by default functions"
   ]
  },
  {
   "cell_type": "code",
   "execution_count": 134,
   "id": "681893e5",
   "metadata": {},
   "outputs": [
    {
     "name": "stdout",
     "output_type": "stream",
     "text": [
      "With all zeros \n",
      " [[0. 0.]\n",
      " [0. 0.]]\n",
      "\n",
      "With all ones \n",
      " [[1. 1.]\n",
      " [1. 1.]]\n",
      "\n",
      "With all default \n",
      " [[9 9]\n",
      " [9 9]\n",
      " [9 9]]\n",
      "\n",
      " n x n Identical Matrix \n",
      " [[1. 0. 0.]\n",
      " [0. 1. 0.]\n",
      " [0. 0. 1.]]\n",
      "\n",
      " n x n Random values Matrix \n",
      " [[0.24222002 0.84395713 0.52989856]\n",
      " [0.33942715 0.55702864 0.67557841]]\n",
      "\n",
      "Empty Matrix \n",
      " [[0.24222002 0.84395713 0.52989856]\n",
      " [0.33942715 0.55702864 0.67557841]]\n"
     ]
    }
   ],
   "source": [
    "a = np.zeros((2,2)) #Creates a 2 x 2 matrix with all 0 values\n",
    "print(\"With all zeros \\n\",a)\n",
    "\n",
    "a = np.ones((2,2)) #Creates a 2 x 2 matrix with all 1 values\n",
    "print(\"\\nWith all ones \\n\",a)\n",
    "\n",
    "a = np.full((3,2), 9) #Creates a 3 x 2 matrix with all 9 values\n",
    "print(\"\\nWith all default \\n\",a)\n",
    "\n",
    "a = np.eye(3) #Creates a 3 x 3 identical matrix\n",
    "print(\"\\n n x n Identical Matrix \\n\",a)\n",
    "\n",
    "a = np.random.random((2,3)) #Creates a 2x3 random matrix\n",
    "print(\"\\n n x n Random values Matrix \\n\",a)\n",
    "\n",
    "b = np.empty_like(a) #Creates an empty matrix with same shape as a\n",
    "print(\"\\nEmpty Matrix \\n\",b)"
   ]
  }
 ],
 "metadata": {
  "kernelspec": {
   "display_name": "Python 3",
   "language": "python",
   "name": "python3"
  },
  "language_info": {
   "codemirror_mode": {
    "name": "ipython",
    "version": 3
   },
   "file_extension": ".py",
   "mimetype": "text/x-python",
   "name": "python",
   "nbconvert_exporter": "python",
   "pygments_lexer": "ipython3",
   "version": "3.8.8"
  }
 },
 "nbformat": 4,
 "nbformat_minor": 5
}
