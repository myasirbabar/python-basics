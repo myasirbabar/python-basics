{
 "cells": [
  {
   "cell_type": "markdown",
   "id": "c79bb45b",
   "metadata": {},
   "source": [
    "#### Write a function printNumbers() that will print out the numbers from 60 to 48 backwards all on one line with the help of only one variable. Print the messages \"Starting\" and \"Done\" before and after the line of numbers. Test the function from main()."
   ]
  },
  {
   "cell_type": "code",
   "execution_count": 10,
   "id": "5d034a55",
   "metadata": {},
   "outputs": [
    {
     "name": "stdout",
     "output_type": "stream",
     "text": [
      "starting\n",
      "60 59 58 57 56 55 54 53 52 51 50 49 48 \n",
      "Done\n"
     ]
    }
   ],
   "source": [
    "def printNumbers():\n",
    "    print(\"starting\")\n",
    "    for i in range(60,47, -1):\n",
    "        print(i, end = ' ')\n",
    "        \n",
    "    print(\"\\nDone\")\n",
    "    \n",
    "printNumbers()"
   ]
  },
  {
   "cell_type": "markdown",
   "id": "4990d254",
   "metadata": {},
   "source": [
    "#### Write a function which takes a single integer parameter, and determines whether it’s an even or an odd number. The return type of function should be boolean. "
   ]
  },
  {
   "cell_type": "code",
   "execution_count": 12,
   "id": "11d8fc56",
   "metadata": {},
   "outputs": [
    {
     "name": "stdout",
     "output_type": "stream",
     "text": [
      "Enter a value11\n",
      "Odd\n"
     ]
    }
   ],
   "source": [
    "def check(value):\n",
    "    if value % 2 == 0:\n",
    "        return True\n",
    "    else:\n",
    "        return False\n",
    "    \n",
    "val = int(input(\"Enter a value\"))\n",
    "flag = check(val)\n",
    "\n",
    "if flag == True:\n",
    "    print(\"Even\")\n",
    "else:\n",
    "    print(\"Odd\")"
   ]
  },
  {
   "cell_type": "markdown",
   "id": "4b23266d",
   "metadata": {},
   "source": [
    "#### Suppose after completing your degree you have been appointed as a programmer at the state of Bella in United Kingdom. The basic currency unit at Bella is coin and the coinage is the quantity of money. The finance minister of Bella has asked you to develop software with following requirements.\n",
    "    1. The program consists of a module that will reads in total number of coins.\n",
    "    2. The programs consist of another module that accepts money as input and convert it into Thousands, Hundreds, Fifties,\n",
    "    Tens and Fives.\n",
    "    3. The third module must display the total number of thousands, hundreds, fifties, tens and fives."
   ]
  },
  {
   "cell_type": "code",
   "execution_count": 13,
   "id": "1230e19d",
   "metadata": {},
   "outputs": [
    {
     "name": "stdout",
     "output_type": "stream",
     "text": [
      "Enter no of Coins : 5567\n",
      "Ammount  5567  is divided as : \n",
      "\t Thousands =  5\n",
      "\t Hundreds  =  5\n",
      "\t Fifties   =  1\n",
      "\t Tens      =  1\n",
      "\t Fives     =  1\n",
      "\t Coins     =  2\n"
     ]
    }
   ],
   "source": [
    "def data():\n",
    "    money = int(input(\"Enter no of Coins : \"))\n",
    "    return money\n",
    "\n",
    "def calculation(money):\n",
    "    th = int(money / 1000) #5500 / 1000 = 5\n",
    "    \n",
    "    rem1 = (money - (th * 1000)) # 5500 - 5*1000 = 5500 - 5000 = 500\n",
    "    hun = int(rem1 / 100)\n",
    "    \n",
    "    rem2 = (rem1 - (hun * 100))\n",
    "    fifty = int(rem2 / 50)\n",
    "    \n",
    "    rem3 = (rem2 - (fifty * 50))\n",
    "    tens = int(rem3 / 10)\n",
    "    \n",
    "    rem4 = (rem3 - (tens * 10))\n",
    "    fives = int(rem4 / 5)\n",
    "    \n",
    "    coin = rem4 - (fives*5)\n",
    "\n",
    "    display(money, th, hun, fifty, tens, fives, coin)\n",
    "    \n",
    "def display(m,t,h,f,te,fi,c):\n",
    "    print (\"Ammount \", m, \" is divided as : \")\n",
    "    print (\"\\t Thousands = \", t)\n",
    "    print (\"\\t Hundreds  = \", h)\n",
    "    print (\"\\t Fifties   = \", f)\n",
    "    print (\"\\t Tens      = \", te)\n",
    "    print (\"\\t Fives     = \", fi)\n",
    "    print (\"\\t Coins     = \", c)\n",
    "    \n",
    "val = data()\n",
    "calculation(val)"
   ]
  },
  {
   "cell_type": "markdown",
   "id": "72ad0d2d",
   "metadata": {},
   "source": [
    "#### Write a function \"estimateCost(...)\" to gauge the expected cost of an item in a specified number of years. The program asks for the cost of the item, the number of years from now that the item will be purchased, the rate of inflation and make a call to \"estimateCost (...)\" which will estimate and return the cost of the item after the specified period. If user enters the inflation rate as a percentage like 5.6 (%), your program should then convert the percent to a fraction such as 0.056 and estimate the price adjusted for inflation. Test the functionality of your module from main().\n"
   ]
  },
  {
   "cell_type": "code",
   "execution_count": 2,
   "id": "8a6fc10b",
   "metadata": {},
   "outputs": [
    {
     "name": "stdout",
     "output_type": "stream",
     "text": [
      "Enter Cost  : 1000\n",
      "Enter Years : 5\n",
      "Enter Rate  : 5.6\n",
      "Estimated Cost is :  1280.0\n"
     ]
    }
   ],
   "source": [
    "def estimateCost(cost, years, rate):\n",
    "    expected = float(cost + (years* (cost * (rate/100))))\n",
    "    return expected \n",
    "\n",
    "def start():\n",
    "    cost = float(input(\"Enter Cost  : \"))\n",
    "    years = int(input(\"Enter Years : \"))\n",
    "    rate = float(input(\"Enter Rate  : \"))\n",
    "    \n",
    "    es = estimateCost(cost, years,rate)\n",
    "    print(\"Estimated Cost is : \", es)\n",
    "    \n",
    "start()"
   ]
  },
  {
   "cell_type": "markdown",
   "id": "13a00f10",
   "metadata": {},
   "source": [
    "#### Write a function that will print Fibonacci series up to n number, the n is entered by a user and passed to a function as an argument. By definition, the first two Fibonacci numbers are 0 and 1, and each remaining number is the sum of the previous two.\n",
    "Fn = Fn-1 + Fn-2\n",
    "The Fibonacci series is 0, 1, 1,2,3,5, 8, 13, 21…"
   ]
  },
  {
   "cell_type": "code",
   "execution_count": 12,
   "id": "8603e698",
   "metadata": {},
   "outputs": [
    {
     "name": "stdout",
     "output_type": "stream",
     "text": [
      "Enter n : 15\n",
      "0 \t 1\t1\t2\t3\t5\t8\t13\t21\t34\t55\t89\t144\t233\t377\t610\t"
     ]
    }
   ],
   "source": [
    "def output(n):\n",
    "    print(n, end = '\\t')\n",
    "    \n",
    "def fibonacci(n):\n",
    "    first ,second,term = 0, 1, 0\n",
    "    if n == 0:\n",
    "        print(first)\n",
    "    else:\n",
    "        print(first,\"\\t\",second, end = '\\t')\n",
    "        \n",
    "    for i in range(2,n+1):\n",
    "        term = first + second\n",
    "        output(term)\n",
    "        first = second\n",
    "        second = term\n",
    "        \n",
    "    \n",
    "n = int(input(\"Enter n : \"))\n",
    "fibonacci(n)"
   ]
  },
  {
   "cell_type": "code",
   "execution_count": 1,
   "id": "6f70de7f",
   "metadata": {},
   "outputs": [
    {
     "name": "stdout",
     "output_type": "stream",
     "text": [
      "Name is :  bitf19m526.myasir\n",
      "Extension is :  pucit.edu.pk\n"
     ]
    }
   ],
   "source": [
    "def extract(data):\n",
    "    print(\"Name is : \", data[0:17]) \n",
    "    print(\"Extension is : \", data[18: data.find(' ')])\n",
    "    \n",
    "extract(\"bitf19m526.myasir@pucit.edu.pk jan 1 2021\")"
   ]
  },
  {
   "cell_type": "markdown",
   "id": "fcb2cb24",
   "metadata": {},
   "source": [
    "### Functions in which number of args are unknown"
   ]
  },
  {
   "cell_type": "code",
   "execution_count": 7,
   "id": "e5a8e259",
   "metadata": {},
   "outputs": [
    {
     "name": "stdout",
     "output_type": "stream",
     "text": [
      "25\n",
      "25\n"
     ]
    }
   ],
   "source": [
    "def sum(a, *b):\n",
    "    total = a;\n",
    "    for i in b:\n",
    "        total += i\n",
    "        \n",
    "    print(total)\n",
    "\n",
    "sum(3,4,5,6,7) # a  = 3, all others will be mapped as a list to b\n",
    "\n",
    "l1 = [4,5,6,7]\n",
    "sum(3, l1) #So a list by value can also be sent to b "
   ]
  },
  {
   "cell_type": "markdown",
   "id": "87f24643",
   "metadata": {},
   "source": [
    "### Write a Function that accept arbitary keywords "
   ]
  },
  {
   "cell_type": "code",
   "execution_count": 10,
   "id": "e5620b43",
   "metadata": {},
   "outputs": [
    {
     "name": "stdout",
     "output_type": "stream",
     "text": [
      "KEY :  w \t VALUE :  15\n",
      "KEY :  y \t VALUE :  20\n",
      "Sum =  45\n"
     ]
    }
   ],
   "source": [
    "def add(a, **kwargs):\n",
    "    total = a;\n",
    "    \n",
    "    for key, value in kwargs.items():\n",
    "        print(\"KEY : \", key, \"\\t\" , \"VALUE : \", value)\n",
    "        total += value\n",
    "        \n",
    "    print(\"Sum = \",total)\n",
    "    \n",
    "add(10, w = 15, y = 20)"
   ]
  },
  {
   "cell_type": "markdown",
   "id": "b21a28cc",
   "metadata": {},
   "source": [
    "### Write a Function that accepts positional and arbitary keywords arguments"
   ]
  },
  {
   "cell_type": "code",
   "execution_count": 14,
   "id": "615916fc",
   "metadata": {},
   "outputs": [
    {
     "name": "stdout",
     "output_type": "stream",
     "text": [
      "(10, 20, 30) {'w': 15, 'y': 20}\n"
     ]
    }
   ],
   "source": [
    "def func(*args, **kwargs):        \n",
    "    print(args, kwargs)\n",
    "    \n",
    "func(10,20,30, w = 15, y = 20)"
   ]
  }
 ],
 "metadata": {
  "kernelspec": {
   "display_name": "Python 3",
   "language": "python",
   "name": "python3"
  },
  "language_info": {
   "codemirror_mode": {
    "name": "ipython",
    "version": 3
   },
   "file_extension": ".py",
   "mimetype": "text/x-python",
   "name": "python",
   "nbconvert_exporter": "python",
   "pygments_lexer": "ipython3",
   "version": "3.8.8"
  }
 },
 "nbformat": 4,
 "nbformat_minor": 5
}
