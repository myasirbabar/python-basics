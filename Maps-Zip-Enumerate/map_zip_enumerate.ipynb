{
 "cells": [
  {
   "cell_type": "markdown",
   "id": "5665801d",
   "metadata": {},
   "source": [
    "# MAP"
   ]
  },
  {
   "cell_type": "markdown",
   "id": "4d31d3ae",
   "metadata": {},
   "source": [
    "### Given a list find numbers of letters in each value of list using map"
   ]
  },
  {
   "cell_type": "code",
   "execution_count": 3,
   "id": "9ce7e939",
   "metadata": {},
   "outputs": [
    {
     "name": "stdout",
     "output_type": "stream",
     "text": [
      "[8, 5, 5, 6]\n"
     ]
    }
   ],
   "source": [
    "def letters(n):\n",
    "    return len(n)\n",
    "\n",
    "li = [\"Muhammad\", \"Yasir\", \"Babar\", \"Bhatti\"]\n",
    "x = map(letters, li) #Map automatically call letter function with each value of li and store result in x. \n",
    "\n",
    "print(list(x)) #Displayed count in list form"
   ]
  },
  {
   "cell_type": "markdown",
   "id": "a5c6a9c3",
   "metadata": {},
   "source": [
    "### Concatenate two strings using map"
   ]
  },
  {
   "cell_type": "code",
   "execution_count": 5,
   "id": "6161dc48",
   "metadata": {},
   "outputs": [
    {
     "name": "stdout",
     "output_type": "stream",
     "text": [
      "['Muhammad Yasir', 'Zaheer Babar', 'Altaf Hussain']\n"
     ]
    }
   ],
   "source": [
    "def concate(a,b):\n",
    "    return a + \" \" + b\n",
    "\n",
    "f = [\"Muhammad\", \"Zaheer\", \"Altaf\"]\n",
    "l = [\"Yasir\", \"Babar\", \"Hussain\"]\n",
    "\n",
    "x = map(concate, f,l)\n",
    "\n",
    "print(list(x))"
   ]
  },
  {
   "cell_type": "markdown",
   "id": "81c3361e",
   "metadata": {},
   "source": [
    "# ZIP"
   ]
  },
  {
   "cell_type": "markdown",
   "id": "5cb3702c",
   "metadata": {},
   "source": [
    "### Concatenate names using zip"
   ]
  },
  {
   "cell_type": "code",
   "execution_count": 11,
   "id": "1dc02c2b",
   "metadata": {},
   "outputs": [
    {
     "name": "stdout",
     "output_type": "stream",
     "text": [
      "[('Muhammad', 'Yasir'), ('Zaheer', 'Babar'), ('Altaf', 'Hussain')]\n"
     ]
    }
   ],
   "source": [
    "# concate function is not req if we use zip for performing this task\n",
    "\n",
    "f = [\"Muhammad\", \"Zaheer\", \"Altaf\"]\n",
    "l = [\"Yasir\", \"Babar\", \"Hussain\"]\n",
    "\n",
    "x = zip(f,l)\n",
    "\n",
    "print(list(x))    "
   ]
  },
  {
   "cell_type": "markdown",
   "id": "d158b740",
   "metadata": {},
   "source": [
    "# Enumerate"
   ]
  },
  {
   "cell_type": "code",
   "execution_count": 12,
   "id": "9679252b",
   "metadata": {},
   "outputs": [
    {
     "name": "stdout",
     "output_type": "stream",
     "text": [
      "(0, 'Muhammad')\n",
      "(1, 'Zaheer')\n",
      "(2, 'Altaf')\n"
     ]
    }
   ],
   "source": [
    "# Assigning IDS to values is called enumerating\n",
    "\n",
    "f = [\"Muhammad\", \"Zaheer\", \"Altaf\"]\n",
    "ID = enumerate(f)\n",
    "\n",
    "for i in ID:\n",
    "    print(i)"
   ]
  }
 ],
 "metadata": {
  "kernelspec": {
   "display_name": "Python 3",
   "language": "python",
   "name": "python3"
  },
  "language_info": {
   "codemirror_mode": {
    "name": "ipython",
    "version": 3
   },
   "file_extension": ".py",
   "mimetype": "text/x-python",
   "name": "python",
   "nbconvert_exporter": "python",
   "pygments_lexer": "ipython3",
   "version": "3.8.8"
  }
 },
 "nbformat": 4,
 "nbformat_minor": 5
}
