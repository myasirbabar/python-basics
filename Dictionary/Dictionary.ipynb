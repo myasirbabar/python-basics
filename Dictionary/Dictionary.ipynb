{
 "cells": [
  {
   "cell_type": "code",
   "execution_count": 5,
   "id": "99e1b709",
   "metadata": {},
   "outputs": [
    {
     "name": "stdout",
     "output_type": "stream",
     "text": [
      "2021\n"
     ]
    }
   ],
   "source": [
    "thisdict = { \"year\": 1964,\"brand\": \"Ford\",\"model\": \"Mustang\", \"year\": 2020 }\n",
    "thisdict[\"year\"] = 2021\n",
    "print(thisdict[\"year\"])"
   ]
  },
  {
   "cell_type": "markdown",
   "id": "3566e5c4",
   "metadata": {},
   "source": [
    "#### Create a dictionary of student attribute"
   ]
  },
  {
   "cell_type": "code",
   "execution_count": 6,
   "id": "ae1a11e4",
   "metadata": {},
   "outputs": [
    {
     "name": "stdout",
     "output_type": "stream",
     "text": [
      "{'Name': 'Muhammad Yasir', 'Roll No': 'BITF19M526', 'degree': 'Bs - IT', 'semester': 5}\n",
      "Muhammad Yasir\n",
      "4\n",
      "True\n",
      "False\n",
      "dict_values(['Muhammad Yasir', 'BITF19M526', 'Bs - IT', 5])\n",
      "True\n",
      "False\n"
     ]
    }
   ],
   "source": [
    "record = dict()\n",
    "record = {\"Name\" : \"Muhammad Yasir\", \"Roll No\" : \"BITF19M526\", \"degree\" : \"Bs - IT\", \"semester\" : 5}\n",
    "\n",
    "print(record)\n",
    "print(record['Name'])\n",
    "print(len(record))\n",
    "\n",
    "print(\"Roll No\" in record)\n",
    "print(\"Roll no\" in record)\n",
    "\n",
    "#print(record[\"Muhammad Yasir\"]) #Direct data can not be accessed\n",
    "val = record.values()\n",
    "print(val)\n",
    "print(\"Muhammad Yasir\" in val)\n",
    "print(\"Muhammad yasir\" in val)"
   ]
  },
  {
   "cell_type": "markdown",
   "id": "36e63319",
   "metadata": {},
   "source": [
    "#### Count Character using dictionary"
   ]
  },
  {
   "cell_type": "code",
   "execution_count": 7,
   "id": "64b6b7b5",
   "metadata": {},
   "outputs": [
    {
     "name": "stdout",
     "output_type": "stream",
     "text": [
      "{'M': 1, 'u': 1, 'h': 1, 'a': 5, 'm': 2, 'd': 1, ' ': 2, 'Y': 1, 's': 1, 'i': 1, 'r': 2, 'B': 1, 'b': 1}\n"
     ]
    }
   ],
   "source": [
    "word = \"Muhammad Yasir Babar\"\n",
    "d = dict()\n",
    "\n",
    "for i in word:\n",
    "    if i not in d:\n",
    "        d[i] = 1\n",
    "    else:\n",
    "        d[i] += 1 \n",
    "        \n",
    "print(d)"
   ]
  },
  {
   "cell_type": "markdown",
   "id": "7ea247a3",
   "metadata": {},
   "source": [
    "#### Count number of words in a file and check if a certain word exist in file, else show 0"
   ]
  },
  {
   "cell_type": "code",
   "execution_count": 8,
   "id": "320ac496",
   "metadata": {},
   "outputs": [
    {
     "name": "stdout",
     "output_type": "stream",
     "text": [
      "Cupidatat 1\tdolor 4\tofficia 3\telit 2\tdolore 1\tsit 2\teu 1\treprehenderit 2\tamet 1\tad 4\tcommodo 2\tdeserunt. 1\tEx 1\tmagna 1\ttempor 4\tconsectetur 2\tcommodo. 1\tMinim 1\tnostrud 1\tet 1\tin 2\tdo 3\tadipisicing 2\tincididunt 2\tnisi 1\tconsequat 1\tlaboris 2\taliquip 1\tullamco. 1\tNostrud 1\tanim 1\tquis 1\tipsum 1\tmagna. 1\tDolor 1\tnulla 1\tvoluptate 1\tvelit 1\tanim. 1\tSunt 1\toccaecat 1\tsunt 1\texcepteur 1\taliqua 1\taute 1\tcupidatat 1\tlabore 1\tproident 1\tenim 1\tvelit. 1\tId 1\texercitation 1\tsint 1\tnulla. 1\t\n",
      "Enter word to find 1000\n",
      "0\n"
     ]
    }
   ],
   "source": [
    "fout = open(\"data.txt\")\n",
    "\n",
    "count = dict()\n",
    "\n",
    "for line in fout:\n",
    "    words = line.split() #will create a list of all words (sepreated by a space)\n",
    "    for word in words:\n",
    "        if word not in count:\n",
    "            count[word] = 1\n",
    "        else:\n",
    "            count[word] += 1\n",
    "\n",
    "#print(count)\n",
    "for key in count:\n",
    "    print(key, count[key], end = \"\\t\")\n",
    "\n",
    "val = input(\"\\nEnter word to find \")\n",
    "print(count.get(val, 0))"
   ]
  },
  {
   "cell_type": "markdown",
   "id": "20a6df67",
   "metadata": {},
   "source": [
    "#### Display count of words in sorted order"
   ]
  },
  {
   "cell_type": "code",
   "execution_count": 9,
   "id": "4cb5708d",
   "metadata": {},
   "outputs": [
    {
     "name": "stdout",
     "output_type": "stream",
     "text": [
      "Cupidatat 1\n",
      "Dolor 1\n",
      "Ex 1\n",
      "Id 1\n",
      "Minim 1\n",
      "Nostrud 1\n",
      "Sunt 1\n",
      "ad 4\n",
      "adipisicing 2\n",
      "aliqua 1\n",
      "aliquip 1\n",
      "amet 1\n",
      "anim 1\n",
      "anim. 1\n",
      "aute 1\n",
      "commodo 2\n",
      "commodo. 1\n",
      "consectetur 2\n",
      "consequat 1\n",
      "cupidatat 1\n",
      "deserunt. 1\n",
      "do 3\n",
      "dolor 4\n",
      "dolore 1\n",
      "elit 2\n",
      "enim 1\n",
      "et 1\n",
      "eu 1\n",
      "excepteur 1\n",
      "exercitation 1\n",
      "in 2\n",
      "incididunt 2\n",
      "ipsum 1\n",
      "labore 1\n",
      "laboris 2\n",
      "magna 1\n",
      "magna. 1\n",
      "nisi 1\n",
      "nostrud 1\n",
      "nulla 1\n",
      "nulla. 1\n",
      "occaecat 1\n",
      "officia 3\n",
      "proident 1\n",
      "quis 1\n",
      "reprehenderit 2\n",
      "sint 1\n",
      "sit 2\n",
      "sunt 1\n",
      "tempor 4\n",
      "ullamco. 1\n",
      "velit 1\n",
      "velit. 1\n",
      "voluptate 1\n"
     ]
    }
   ],
   "source": [
    "li = list(count.keys())\n",
    "li.sort()\n",
    "for key in li:\n",
    "    print(key, count[key])"
   ]
  }
 ],
 "metadata": {
  "kernelspec": {
   "display_name": "Python 3",
   "language": "python",
   "name": "python3"
  },
  "language_info": {
   "codemirror_mode": {
    "name": "ipython",
    "version": 3
   },
   "file_extension": ".py",
   "mimetype": "text/x-python",
   "name": "python",
   "nbconvert_exporter": "python",
   "pygments_lexer": "ipython3",
   "version": "3.8.8"
  }
 },
 "nbformat": 4,
 "nbformat_minor": 5
}
