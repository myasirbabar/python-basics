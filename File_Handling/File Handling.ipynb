{
 "cells": [
  {
   "cell_type": "code",
   "execution_count": 9,
   "id": "1ed3f929",
   "metadata": {},
   "outputs": [
    {
     "name": "stdout",
     "output_type": "stream",
     "text": [
      "my name is blah blah \n"
     ]
    }
   ],
   "source": [
    "def open_file():\n",
    "    fout = open(\"rec.txt\")\n",
    "    for line in fout:\n",
    "        print(line)\n",
    "\n",
    "def write_file():\n",
    "    fout = open(\"rec.txt\", 'w')\n",
    "    fout.write(\"my name is blah blah \")\n",
    "\n",
    "write_file()\n",
    "open_file()"
   ]
  },
  {
   "cell_type": "markdown",
   "id": "a9013318",
   "metadata": {},
   "source": [
    "### Writing a .txt file"
   ]
  },
  {
   "cell_type": "code",
   "execution_count": 1,
   "id": "a45b38a8",
   "metadata": {},
   "outputs": [
    {
     "name": "stdout",
     "output_type": "stream",
     "text": [
      "Enter Number Of records : 1\n",
      "\n",
      "Enter Data for Student :  1\n",
      "Enter Your Roll no : BITF19M524\n",
      "Enter Your Name : USAMA MALOOK\n",
      "Enter Your semester : 5\n",
      "------------------------\n",
      "Data Entered Successfully\n"
     ]
    }
   ],
   "source": [
    "def data(n):\n",
    "    print(\"Enter Data for Student : \", i + 1)\n",
    "    \n",
    "    rollno = input(\"Enter Your Roll no : \")\n",
    "    name = input(\"Enter Your Name : \")\n",
    "    \n",
    "    if \"it\" in rollno.lower():\n",
    "        deg = \"BS - IT\"\n",
    "        \n",
    "    elif \"cs\" in rollno.lower():\n",
    "        deg = \"BS - CS\"\n",
    "    \n",
    "    elif \"se\" in rollno.lower():\n",
    "        deg = \"BS - SE\"\n",
    "    \n",
    "    sem = input(\"Enter Your semester : \")\n",
    "    password = \"pucit\"\n",
    "    email = rollno + \"@pucit.edu.pk\"\n",
    "    \n",
    "    print(\"------------------------\")\n",
    "    \n",
    "    write(rollno, name, deg, sem, password, email)\n",
    "    \n",
    "def write(r,n,d,s,p,e):\n",
    "    fout = open(\"record.txt\", 'a')\n",
    "    line = r + \"\\t\" + n + \"\\t\" + d + \"\\t\" + s + \"\\t\" + p + \"\\t\" + e + \"\\n\"\n",
    "    fout.write(line)\n",
    "    \n",
    "    fout.close\n",
    "\n",
    "n = int(input(\"Enter Number Of records : \"))\n",
    "print()\n",
    "\n",
    "for i in range(n):\n",
    "    try:\n",
    "        data(i)\n",
    "    except:\n",
    "        print(\"Error In writing File\")\n",
    "\n",
    "print(\"Data Entered Successfully\")"
   ]
  },
  {
   "cell_type": "markdown",
   "id": "9cfca7bb",
   "metadata": {},
   "source": [
    "### Writing a .csv File"
   ]
  },
  {
   "cell_type": "code",
   "execution_count": 3,
   "id": "06dfaa66",
   "metadata": {},
   "outputs": [
    {
     "name": "stdout",
     "output_type": "stream",
     "text": [
      "Enter Number Of records : 5\n",
      "\n",
      "Enter Data for Student :  1\n",
      "Enter Your Roll no : BITF19M526\n",
      "Enter Your Name : MUHAMMAD YASIR\n",
      "Enter Your semester : 5\n",
      "------------------------\n",
      "Enter Data for Student :  2\n",
      "Enter Your Roll no : BITF19M514\n",
      "Enter Your Name : USAMA AKRAM\n",
      "Enter Your semester : 5\n",
      "------------------------\n",
      "Enter Data for Student :  3\n",
      "Enter Your Roll no : BCSF19M501\n",
      "Enter Your Name : ALI RAZA\n",
      "Enter Your semester : 5\n",
      "------------------------\n",
      "Enter Data for Student :  4\n",
      "Enter Your Roll no : BSEF19M501\n",
      "Enter Your Name : UMER\n",
      "Enter Your semester : 5\n",
      "------------------------\n",
      "Enter Data for Student :  5\n",
      "Enter Your Roll no : BITF19M513\n",
      "Enter Your Name : AREESHA NASEEM\n",
      "Enter Your semester : 5\n",
      "------------------------\n",
      "Data Entered Successfully\n"
     ]
    }
   ],
   "source": [
    "#SAME CODE FOR INPUT AS IN .TXT FILE\n",
    "    \n",
    "def write(r,n,d,s,p,e):\n",
    "    fout = open(\"record.csv\", 'a')\n",
    "    \n",
    "    #JUST REPLACE TABS WITH COMAS\n",
    "    line = r + \",\" + n + \",\" + d + \",\" + s + \",\" + p + \",\" + e + \"\\n\"\n",
    "    fout.write(line)\n",
    "    \n",
    "    fout.close\n",
    "\n",
    "n = int(input(\"Enter Number Of records : \"))\n",
    "print()\n",
    "\n",
    "for i in range(n):\n",
    "    try:\n",
    "        data(i)\n",
    "    except:\n",
    "        print(\"Error In writing File\")\n",
    "\n",
    "print(\"Data Entered Successfully\")"
   ]
  },
  {
   "cell_type": "markdown",
   "id": "f015c258",
   "metadata": {},
   "source": [
    "### Reading a .txt File"
   ]
  },
  {
   "cell_type": "code",
   "execution_count": 2,
   "id": "fa20dbcc",
   "metadata": {},
   "outputs": [
    {
     "name": "stdout",
     "output_type": "stream",
     "text": [
      "Student  1\n",
      "BITF19M526\tMUHAMMAD YASIR\tBS - IT\t5\tpucit\tBITF19M526@pucit.edu.pk\n",
      "\n",
      "Student  2\n",
      "BITF19M514\tUSAMA AKRAM\tBS - IT\t5\tpucit\tBITF19M514@pucit.edu.pk\n",
      "\n",
      "Student  3\n",
      "BITF19M527\tFARWA IRFAN\tBS - IT\t5\tpucit\tBITF19M527@pucit.edu.pk\n",
      "\n",
      "Student  4\n",
      "BITF19M513\tAREESHA NASEEM\tBS - IT\t5\tpucit\tBITF19M513@pucit.edu.pk\n",
      "\n",
      "Student  5\n",
      "BITF19M537\tMUHAMMAD AWAIS\tBS - IT\t5\tpucit\tBITF19M537@pucit.edu.pk\n",
      "\n",
      "Student  6\n",
      "BITF19M515\tMUTEEB HAYAT KHAN\tBS - IT\t5\tpucit\tBITF19M515@pucit.edu.pk\n",
      "\n",
      "Student  7\n",
      "BITF19M501\tFAZEEN SHOQAT\tBS - IT\t5\tpucit\tBITF19M501@pucit.edu.pk\n",
      "\n",
      "Student  8\n",
      "BITF19M528\tMAIRA QURESHI\tBS-IT\t5\tpucit\tBITF19M528@pucit.edu.pk\n",
      "\n",
      "Student  9\n",
      "BITF19M517\tRIDA FATIMA\tBS-IT\t5\tpucit\tBITF19M517@pucit.edu.pk\n",
      "\n",
      "Student  10\n",
      "BCSF19M501\tALI RAZA\tBS - CS\t5\tpucit\tBCSF19M501@pucit.edu.pk\n",
      "\n",
      "Student  11\n",
      "BSEF19M501\tUMER\tBS - SE\t5\tpucit\tBSEF19M501@pucit.edu.pk\n",
      "\n",
      "Student  12\n",
      "BITF19M520\tHAREEM FATIMA\tBS - IT\t5\tpucit\tBITF19M520@pucit.edu.pk\n",
      "\n",
      "Student  13\n",
      "BITF19M524\tUSAMA MALOOK\tBS - IT\t5\tpucit\tBITF19M524@pucit.edu.pk\n",
      "\n"
     ]
    }
   ],
   "source": [
    "def read():\n",
    "    try:\n",
    "        file = open(\"record.txt\")\n",
    "    except:\n",
    "        print(\"File Not Found\")\n",
    "        exit()\n",
    "        \n",
    "    count = 1\n",
    "    for line in file:\n",
    "        print(\"Student \", count)\n",
    "        print(line)\n",
    "        count += 1\n",
    "        \n",
    "read()"
   ]
  },
  {
   "cell_type": "markdown",
   "id": "f38624d5",
   "metadata": {},
   "source": [
    "### Reading a .csv File"
   ]
  },
  {
   "cell_type": "code",
   "execution_count": 8,
   "id": "cae0b2ce",
   "metadata": {},
   "outputs": [
    {
     "name": "stdout",
     "output_type": "stream",
     "text": [
      "Student  1\n",
      "BITF19M526\tMUHAMMAD YASIR\tBS - IT\t5\tpucit\tBITF19M526@pucit.edu.pk\n",
      "\n",
      "Student  2\n",
      "BITF19M514\tUSAMA AKRAM\tBS - IT\t5\tpucit\tBITF19M514@pucit.edu.pk\n",
      "\n",
      "Student  3\n",
      "BCSF19M501\tALI RAZA\tBS - CS\t5\tpucit\tBCSF19M501@pucit.edu.pk\n",
      "\n",
      "Student  4\n",
      "BSEF19M501\tUMER\tBS - SE\t5\tpucit\tBSEF19M501@pucit.edu.pk\n",
      "\n",
      "Student  5\n",
      "BITF19M513\tAREESHA NASEEM\tBS - IT\t5\tpucit\tBITF19M513@pucit.edu.pk\n",
      "\n"
     ]
    }
   ],
   "source": [
    "def read():\n",
    "    try:\n",
    "        file = open(\"record.csv\")\n",
    "    except:\n",
    "        print(\"File Not Found\")\n",
    "        exit()\n",
    "        \n",
    "    count = 0\n",
    "    for line in file:\n",
    "        \n",
    "        if count == 0:\n",
    "            count += 1\n",
    "            continue\n",
    "            \n",
    "        print(\"Student \", count)\n",
    "        newline = \"\"\n",
    "        \n",
    "        for i in range(len(line)):\n",
    "            if line[i] == ',':\n",
    "                newline += \"\\t\"\n",
    "                continue\n",
    "                \n",
    "            newline += line[i]\n",
    "            \n",
    "        print(newline)\n",
    "        count += 1\n",
    "        \n",
    "read()"
   ]
  }
 ],
 "metadata": {
  "kernelspec": {
   "display_name": "Python 3",
   "language": "python",
   "name": "python3"
  },
  "language_info": {
   "codemirror_mode": {
    "name": "ipython",
    "version": 3
   },
   "file_extension": ".py",
   "mimetype": "text/x-python",
   "name": "python",
   "nbconvert_exporter": "python",
   "pygments_lexer": "ipython3",
   "version": "3.8.8"
  }
 },
 "nbformat": 4,
 "nbformat_minor": 5
}
