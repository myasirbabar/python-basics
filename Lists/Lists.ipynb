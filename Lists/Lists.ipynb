{
 "cells": [
  {
   "cell_type": "code",
   "execution_count": 10,
   "id": "4c62ef3d",
   "metadata": {},
   "outputs": [
    {
     "name": "stdout",
     "output_type": "stream",
     "text": [
      "1\n",
      "90\n"
     ]
    }
   ],
   "source": [
    "li = [1,2,3,4,5,5]\n",
    "print(li[0])\n",
    "li[0] = 90\n",
    "print(li[0])"
   ]
  },
  {
   "cell_type": "code",
   "execution_count": 12,
   "id": "c0ca9b00",
   "metadata": {},
   "outputs": [
    {
     "name": "stdout",
     "output_type": "stream",
     "text": [
      "1\n",
      "1\n"
     ]
    }
   ],
   "source": [
    "li =(1,2,3,5,5)\n",
    "print(li[0])\n",
    "\n",
    "#li[0] = 90\n",
    "\n",
    "print(li[0])"
   ]
  },
  {
   "cell_type": "code",
   "execution_count": 27,
   "id": "6b3ff345",
   "metadata": {},
   "outputs": [
    {
     "name": "stdout",
     "output_type": "stream",
     "text": [
      "2\n"
     ]
    }
   ],
   "source": [
    "di = dict()\n",
    "di = {\"m\": 0, \"y\" : 1, \"by\": 2}\n",
    "\n",
    "print(di['by'])\n"
   ]
  },
  {
   "cell_type": "markdown",
   "id": "3c6542c3",
   "metadata": {},
   "source": [
    "#### Write a program that lets the user to enter the marks of 10 quizzes of a student into an array of integers. The program should calculate and display the total of all the student’s quizzes."
   ]
  },
  {
   "cell_type": "code",
   "execution_count": 4,
   "id": "6cab4238",
   "metadata": {},
   "outputs": [
    {
     "name": "stdout",
     "output_type": "stream",
     "text": [
      "Enter Marks of student 1 : 1\n",
      "Enter Marks of student 2 : 2\n",
      "Enter Marks of student 3 : 3\n",
      "Enter Marks of student 4 : 4\n",
      "Enter Marks of student 5 : 5\n",
      "Enter Marks of student 6 : 6\n",
      "Enter Marks of student 7 : 8\n",
      "Enter Marks of student 8 : 9\n",
      "Enter Marks of student 9 : 10\n",
      "Enter Marks of student 10 : 87\n",
      "Sum of marks =  135\n"
     ]
    }
   ],
   "source": [
    "def sum_marks():\n",
    "    marks = []\n",
    "    for i in range(10):\n",
    "        marks.append(int(input(\"Enter Marks of student %d : \" %(i+1))))\n",
    "        \n",
    "    print(\"Sum of marks = \", sum(marks))\n",
    "    \n",
    "sum_marks()"
   ]
  },
  {
   "cell_type": "markdown",
   "id": "b3279a9b",
   "metadata": {},
   "source": [
    "#### Write a program that lets the user enter the total rainfall for each of 12 months into an array of doubles. The program should display the month having highest rainfall in the year."
   ]
  },
  {
   "cell_type": "code",
   "execution_count": 8,
   "id": "1d720877",
   "metadata": {},
   "outputs": [
    {
     "name": "stdout",
     "output_type": "stream",
     "text": [
      "Enter Rain for month 1 : 5.5\n",
      "Enter Rain for month 2 : 4.5\n",
      "Enter Rain for month 3 : 3.2\n",
      "Enter Rain for month 4 : 10.56\n",
      "Enter Rain for month 5 : 10.57\n",
      "Enter Rain for month 6 : 10.5687\n",
      "Enter Rain for month 7 : 9\n",
      "Enter Rain for month 8 : 2\n",
      "Enter Rain for month 9 : 3\n",
      "Enter Rain for month 10 : 7.7\n",
      "Enter Rain for month 11 : 10.578\n",
      "Enter Rain for month 12 : 1\n",
      "Highest Rainfall was in  10.578\n"
     ]
    }
   ],
   "source": [
    "def rainfall():\n",
    "    rain = []\n",
    "    for i in range(12):\n",
    "        rain.append(float(input(\"Enter Rain for month %d : \" %(i+1))))\n",
    "        \n",
    "    print(\"Highest Rainfall was in \", max(rain))\n",
    "    \n",
    "rainfall()"
   ]
  },
  {
   "cell_type": "markdown",
   "id": "b1b59d94",
   "metadata": {},
   "source": [
    "#### Write a program that lets the user to enter 10 integers into an array. The program should add pairs of elements together, starting with elements at index 0 with 1, 2 with 3, 4 with 5 and so on. Save all the results into a separate array and display the values of resulting array. \n"
   ]
  },
  {
   "cell_type": "code",
   "execution_count": 11,
   "id": "a4062550",
   "metadata": {},
   "outputs": [
    {
     "name": "stdout",
     "output_type": "stream",
     "text": [
      "Enter Value 1 : 1\n",
      "Enter Value 2 : 2\n",
      "Enter Value 3 : 3\n",
      "Enter Value 4 : 4\n",
      "Enter Value 5 : 5\n",
      "Enter Value 6 : 6\n",
      "Enter Value 7 : 7\n",
      "Enter Value 8 : 8\n",
      "Enter Value 9 : 9\n",
      "Enter Value 10 : 10\n",
      "\n",
      "Alternative value sum list is :  [3, 7, 11, 15, 19]\n"
     ]
    }
   ],
   "source": [
    "def data():\n",
    "    rec = []\n",
    "    for i in range(10):\n",
    "        val = int(input(\"Enter Value %d : \" %(i+1)))\n",
    "        rec.append(val)\n",
    "    \n",
    "    return rec\n",
    "\n",
    "def add():\n",
    "    rec = data()\n",
    "    \n",
    "    sum = []\n",
    "    for i in range(0, len(rec), 2):\n",
    "        sum.append(rec[i] + rec[i+1])\n",
    "        \n",
    "    print(\"\\nAlternative value sum list is : \",sum)\n",
    "    \n",
    "add()\n"
   ]
  },
  {
   "cell_type": "markdown",
   "id": "e3f0c666",
   "metadata": {},
   "source": [
    "#### The local Driver’s License Office has asked you to write a program that grades the written portion of the driver’s license exam. The exam has 10 multiple choice questions.\n",
    "##### Here are the correct answers:\n",
    "#### Question 1 2 3 4 5 6 7 8 9 10\n",
    "#### Answer 4 1 2 1 3 2 1 4 3 2\n",
    "Your program should store the correct answers shown above in an array. It should ask the user to enter the student’s answers for each of the 10 questions, and the answers should be stored in another array. After the student’s answers have been entered, the program should display a message indicating whether the student passed or failed the exam. A student must correctly answer 6 of the 10 questions to pass the exam. It should then display the\n",
    "#####  total number of correctly answered questions\n",
    "#####  total number of incorrectly answered questions\n",
    "##### list showing the question numbers of the incorrectly answered questions. "
   ]
  },
  {
   "cell_type": "code",
   "execution_count": 19,
   "id": "c9110bf5",
   "metadata": {},
   "outputs": [
    {
     "name": "stdout",
     "output_type": "stream",
     "text": [
      "Enter answer for Q 1 : 4\n",
      "Enter answer for Q 2 : 2\n",
      "Enter answer for Q 3 : 1\n",
      "Enter answer for Q 4 : 3\n",
      "Enter answer for Q 5 : 5\n",
      "Enter answer for Q 6 : 7\n",
      "Enter answer for Q 7 : 2\n",
      "Enter answer for Q 8 : 1\n",
      "Enter answer for Q 9 : 6\n",
      "Enter answer for Q 10 : 1\n",
      "------------------------\n",
      "Number of correct :  1\n",
      "Number of incorrect :  9\n",
      "List of incorrect one :  [1, 2, 3, 4, 5, 6, 7, 8, 9]\n"
     ]
    }
   ],
   "source": [
    "def answers():\n",
    "    ans = []\n",
    "    for i in range(10):\n",
    "        a = int(input(\"Enter answer for Q %d : \" %(i+1)))\n",
    "        ans.append(a)\n",
    "    \n",
    "    return ans\n",
    "\n",
    "def result():\n",
    "    key = [4,1,2,1,3,2,1,4,3,2]\n",
    "    ans = answers()\n",
    "    \n",
    "    incorrect = []\n",
    "    c1 = c2 = 0\n",
    "    \n",
    "    for i in range(10):\n",
    "        if key[i] == ans[i]:\n",
    "            c1 += 1\n",
    "        else:\n",
    "            c2 += 1\n",
    "            incorrect.append(i)\n",
    "            \n",
    "    print(\"------------------------\")\n",
    "    print(\"Number of correct : \", c1)\n",
    "    print(\"Number of incorrect : \", c2)\n",
    "    print(\"List of incorrect one : \", incorrect)\n",
    "    \n",
    "result()"
   ]
  }
 ],
 "metadata": {
  "kernelspec": {
   "display_name": "Python 3",
   "language": "python",
   "name": "python3"
  },
  "language_info": {
   "codemirror_mode": {
    "name": "ipython",
    "version": 3
   },
   "file_extension": ".py",
   "mimetype": "text/x-python",
   "name": "python",
   "nbconvert_exporter": "python",
   "pygments_lexer": "ipython3",
   "version": "3.8.8"
  }
 },
 "nbformat": 4,
 "nbformat_minor": 5
}
