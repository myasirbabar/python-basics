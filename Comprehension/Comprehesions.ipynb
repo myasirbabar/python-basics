{
 "cells": [
  {
   "cell_type": "markdown",
   "id": "1932f2a1",
   "metadata": {},
   "source": [
    "### Compute and store the squares of each index of array in new array"
   ]
  },
  {
   "cell_type": "code",
   "execution_count": 3,
   "id": "49007eb5",
   "metadata": {},
   "outputs": [
    {
     "name": "stdout",
     "output_type": "stream",
     "text": [
      "[1, 4, 9, 16, 25]\n",
      "[1, 4, 9, 16, 25]\n"
     ]
    }
   ],
   "source": [
    "def simple_approch(fields):\n",
    "    sqr = []\n",
    "    \n",
    "    for i in fields:\n",
    "        sqr.append((i*i))\n",
    "        \n",
    "    print(sqr)\n",
    "    \n",
    "    \n",
    "def comprehension_approch(fields):\n",
    "    sqr = [i*i for i in fields] #Comprehensive way to perform above task\n",
    "    \n",
    "    print(sqr)\n",
    "    \n",
    "fields = [1,2,3,4,5]\n",
    "\n",
    "simple_approch(fields)\n",
    "comprehension_approch(fields)"
   ]
  },
  {
   "cell_type": "markdown",
   "id": "e8a42702",
   "metadata": {},
   "source": [
    "### Create a Dictionary against field values using comprehensive approch"
   ]
  },
  {
   "cell_type": "code",
   "execution_count": 16,
   "id": "da77c3b3",
   "metadata": {},
   "outputs": [
    {
     "name": "stdout",
     "output_type": "stream",
     "text": [
      "{1: 5, 2: 5, 3: 5, 4: 5, 5: 5}\n"
     ]
    }
   ],
   "source": [
    "def comprehension_approch(fields, val):\n",
    "    dicc = {i:val for i in fields} # Each field value will act as key and against it val will be set as value\n",
    "    \n",
    "    print(dicc)\n",
    "    \n",
    "fields = [1,2,3,4,5]\n",
    "comprehension_approch(fields, 5)"
   ]
  },
  {
   "cell_type": "markdown",
   "id": "359385cf",
   "metadata": {},
   "source": [
    "### Conditional Comprehensive approch"
   ]
  },
  {
   "cell_type": "code",
   "execution_count": 17,
   "id": "202be564",
   "metadata": {},
   "outputs": [
    {
     "name": "stdout",
     "output_type": "stream",
     "text": [
      "{3: 13, 4: 14, 5: 15}\n"
     ]
    }
   ],
   "source": [
    "#Build Dictionary where keys are field values and values are key + 10, This must be done if key > 2\n",
    "\n",
    "fields = [1,2,3,4,5]\n",
    "dicc = {i:i+10 for i in fields if i > 2}\n",
    "print(dicc)"
   ]
  }
 ],
 "metadata": {
  "kernelspec": {
   "display_name": "Python 3",
   "language": "python",
   "name": "python3"
  },
  "language_info": {
   "codemirror_mode": {
    "name": "ipython",
    "version": 3
   },
   "file_extension": ".py",
   "mimetype": "text/x-python",
   "name": "python",
   "nbconvert_exporter": "python",
   "pygments_lexer": "ipython3",
   "version": "3.8.8"
  }
 },
 "nbformat": 4,
 "nbformat_minor": 5
}
