{
 "cells": [
  {
   "cell_type": "markdown",
   "id": "87f4b55c",
   "metadata": {},
   "source": [
    "# Classes and Objects in Python"
   ]
  },
  {
   "cell_type": "code",
   "execution_count": 1,
   "id": "762d920c",
   "metadata": {},
   "outputs": [
    {
     "name": "stdout",
     "output_type": "stream",
     "text": [
      "bitf19m526\n",
      "bitf19m526\n",
      "\n",
      "bitf19m526@pucit.edu.pk\n",
      "bitf19m526@pucit.edu.pk\n",
      "\n",
      "Muhammad Yasir\n",
      "Muhammad Yasir Babar\n",
      "\n",
      "{'English': 87, 'Urdu': 50}\n"
     ]
    }
   ],
   "source": [
    "class student(object):\n",
    "    \n",
    "    # DEFINE CTOR\n",
    "    def __init__(self, name, rollno,sem, deg, password):\n",
    "        \n",
    "        # self ==> this pointer\n",
    "        self.name = name\n",
    "        self.rollno = rollno\n",
    "        self.sem = sem\n",
    "        self.deg = deg\n",
    "        self.password = password\n",
    "        self.email = rollno + \"@pucit.edu.pk\"\n",
    "        \n",
    "    #GETTERS\n",
    "    def get_rollno(self):\n",
    "        return self.rollno\n",
    "    \n",
    "    def get_email(self):\n",
    "        return self.email\n",
    "    \n",
    "    def set_name(self, name):\n",
    "        self.name = name\n",
    "    \n",
    "    \n",
    "\n",
    "# CRAETING AN OBJECT OF CLASS STUDENT\n",
    "s1 = student(\"Myb\", \"bitf19m526\", 5, \"BS - IT\", \"pucit\")\n",
    "\n",
    "\n",
    "#ACCESSING MEMBERS DIRECTLY AND THROUGH GETTERS\n",
    "print(s1.rollno)\n",
    "print(s1.get_rollno())\n",
    "\n",
    "print()\n",
    "\n",
    "print(s1.email)\n",
    "print(s1.get_email())\n",
    "\n",
    "print()\n",
    "\n",
    "\n",
    "#UPDATING MEMBERS DIRECTLY AND THROUGH SETTERS\n",
    "s1.name = \"Muhammad Yasir\"\n",
    "print(s1.name)\n",
    "\n",
    "s1.set_name(\"Muhammad Yasir Babar\")\n",
    "print(s1.name)\n",
    "\n",
    "print()\n",
    "\n",
    "#CREATING A DATA MEMBER AT RUNTIME\n",
    "mark_list = {\"English\":87, \"Urdu\": 50}\n",
    "s1.marks = mark_list\n",
    "print(s1.marks)"
   ]
  }
 ],
 "metadata": {
  "kernelspec": {
   "display_name": "Python 3",
   "language": "python",
   "name": "python3"
  },
  "language_info": {
   "codemirror_mode": {
    "name": "ipython",
    "version": 3
   },
   "file_extension": ".py",
   "mimetype": "text/x-python",
   "name": "python",
   "nbconvert_exporter": "python",
   "pygments_lexer": "ipython3",
   "version": "3.8.8"
  }
 },
 "nbformat": 4,
 "nbformat_minor": 5
}
